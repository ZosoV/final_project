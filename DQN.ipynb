{
 "cells": [
  {
   "cell_type": "markdown",
   "metadata": {},
   "source": [
    "# DQN Basic Implementation\n"
   ]
  },
  {
   "cell_type": "code",
   "execution_count": 119,
   "metadata": {},
   "outputs": [],
   "source": [
    "import torch\n",
    "import torch.nn as nn\n",
    "import torch.optim as optim\n",
    "import math, random\n",
    "import numpy as np\n",
    "import gym\n",
    "import matplotlib.pyplot as plt\n",
    "import os\n",
    "from collections import deque\n"
   ]
  },
  {
   "cell_type": "code",
   "execution_count": 120,
   "metadata": {},
   "outputs": [],
   "source": [
    "# Sett all the libraries with a random seed\n",
    "def set_seed(seed):\n",
    "    random.seed(seed)\n",
    "    np.random.seed(seed)\n",
    "    torch.manual_seed(seed)\n",
    "    torch.cuda.manual_seed_all(seed)\n",
    "    torch.backends.cudnn.deterministic = True\n",
    "    os.environ['PYTHONHASHSEED'] = str(seed)\n",
    "    gym.utils.seeding.np_random(seed)\n",
    "\n",
    "# Set a seed for all libraries\n",
    "SEED = 42\n",
    "set_seed(SEED)\n"
   ]
  },
  {
   "cell_type": "markdown",
   "metadata": {},
   "source": [
    "### Environment Exploration\n",
    "\n",
    "Explore the environment state, action and reward dimension"
   ]
  },
  {
   "cell_type": "code",
   "execution_count": 121,
   "metadata": {},
   "outputs": [
    {
     "name": "stdout",
     "output_type": "stream",
     "text": [
      "State space:  Box([-4.8000002e+00 -3.4028235e+38 -4.1887903e-01 -3.4028235e+38], [4.8000002e+00 3.4028235e+38 4.1887903e-01 3.4028235e+38], (4,), float32)\n",
      "Action space:  Discrete(2)\n",
      "Observation space:  Box([-4.8000002e+00 -3.4028235e+38 -4.1887903e-01 -3.4028235e+38], [4.8000002e+00 3.4028235e+38 4.1887903e-01 3.4028235e+38], (4,), float32)\n",
      "Next State:  [ 0.02727336 -0.20172954  0.03625453  0.32351476]\n",
      "Reward:  1.0\n",
      "Done:  False\n",
      "Truncation:  False\n",
      "Info:  {}\n",
      "Next State:  [ 0.02323877 -0.00714208  0.04272482  0.04248186]\n",
      "Reward:  1.0\n",
      "Done:  False\n",
      "Truncation:  False\n",
      "Info:  {}\n",
      "Next State:  [ 0.02309593 -0.20284982  0.04357446  0.34833285]\n",
      "Reward:  1.0\n",
      "Done:  False\n",
      "Truncation:  False\n",
      "Info:  {}\n"
     ]
    }
   ],
   "source": [
    "# Reset environment and get initial state\n",
    "# Initialize environment\n",
    "set_seed(SEED)\n",
    "env_id = \"CartPole-v1\"\n",
    "env = gym.make(env_id)\n",
    "\n",
    "# Print state, action, and observation spaces\n",
    "print(\"State space: \", env.observation_space)\n",
    "print(\"Action space: \", env.action_space)\n",
    "print(\"Observation space: \", env.observation_space)\n",
    "\n",
    "num_iterations = 3\n",
    "\n",
    "\n",
    "state, info = env.reset(seed=SEED)\n",
    "for t in range(num_iterations):\n",
    "\n",
    "    # Take a random action\n",
    "    action = np.random.randint(0,env.action_space.n)\n",
    "\n",
    "    # Take a step in the environment\n",
    "    next_state, reward, done, truncated, info = env.step(action)\n",
    "\n",
    "    # Print the next_state, reward, and done\n",
    "    print(\"Next State: \", next_state)\n",
    "    print(\"Reward: \", reward)\n",
    "    print(\"Done: \", done)\n",
    "    print(\"Truncation: \", truncated)\n",
    "    print(\"Info: \", info)\n",
    "    \n"
   ]
  },
  {
   "cell_type": "markdown",
   "metadata": {},
   "source": [
    "## Neural Networks\n",
    "\n",
    "We define our neural networks of interest:\n",
    "\n",
    "1. DQNNetwork: maps from the state space to Q-values space (one per each action)\n",
    "2. "
   ]
  },
  {
   "cell_type": "code",
   "execution_count": 122,
   "metadata": {},
   "outputs": [],
   "source": [
    "# Define the neural network for Deep Q-Learning\n",
    "class DQNNetwork(nn.Module):\n",
    "    def __init__(self, state_dim, action_dim):\n",
    "        super(DQNNetwork, self).__init__()\n",
    "        self.fc1 = nn.Linear(state_dim, 128)\n",
    "        self.fc2 = nn.Linear(128, 128)\n",
    "        self.fc3 = nn.Linear(128, action_dim)\n",
    "    \n",
    "    def forward(self, x):\n",
    "        x = torch.relu(self.fc1(x))\n",
    "        x = torch.relu(self.fc2(x))\n",
    "        return self.fc3(x)"
   ]
  },
  {
   "cell_type": "code",
   "execution_count": 123,
   "metadata": {},
   "outputs": [
    {
     "name": "stdout",
     "output_type": "stream",
     "text": [
      "torch.Size([3, 2])\n"
     ]
    },
    {
     "data": {
      "text/plain": [
       "tensor([[-0.1497,  0.0344],\n",
       "        [-0.0549, -0.1398],\n",
       "        [ 0.0337, -0.0223]], grad_fn=<AddmmBackward0>)"
      ]
     },
     "execution_count": 123,
     "metadata": {},
     "output_type": "execute_result"
    }
   ],
   "source": [
    "# Try the network with a toy state\n",
    "state_dim = env.observation_space.shape[0]\n",
    "action_dim = env.action_space.n\n",
    "network = DQNNetwork(state_dim, action_dim)\n",
    "\n",
    "# Create a toy batch of states\n",
    "state = torch.randn(3, state_dim)\n",
    "\n",
    "# Get the Q-values from the network\n",
    "# TODO: The state should be unsqueezed to add a batch dimension\n",
    "q_values = network(state)\n",
    "\n",
    "# Print the Q-values\n",
    "print(q_values.shape)\n",
    "q_values"
   ]
  },
  {
   "cell_type": "markdown",
   "metadata": {},
   "source": [
    "### Experience Replay\n",
    "\n",
    "Define a class for our Experience Replay"
   ]
  },
  {
   "cell_type": "code",
   "execution_count": 124,
   "metadata": {},
   "outputs": [],
   "source": [
    "# Define a simple replay buffer\n",
    "\n",
    "class ExperienceReplayBuffer(object):\n",
    "    def __init__(self, capacity):\n",
    "        self.buffer = deque(maxlen=capacity)\n",
    "    \n",
    "    # Add a new experience to the buffer\n",
    "    def push(self, state, action, reward, next_state, done):\n",
    "        experience = (state, action, reward, next_state, done)\n",
    "        self.buffer.append(experience)\n",
    "    \n",
    "    # Function to transform to tensors\n",
    "    def toTensor(self, states, actions, rewards, next_states, dones):\n",
    "        states = torch.tensor(states, dtype=torch.float32)\n",
    "        actions = torch.tensor(actions, dtype=torch.long).view(-1, 1)\n",
    "        rewards = torch.tensor(rewards, dtype=torch.float32).view(-1, 1)\n",
    "        next_states = torch.tensor(next_states, dtype=torch.float32, requires_grad=False)\n",
    "        dones = torch.tensor(dones, dtype=torch.float32).view(-1, 1)\n",
    "\n",
    "        return states, actions, rewards, next_states, dones\n",
    "\n",
    "    def sample(self, batch_size):\n",
    "        states, actions, rewards, next_states, dones = zip(*random.sample(self.buffer, batch_size))\n",
    "        # TODO: Add the conversion to Pytorch tensor here\n",
    "\n",
    "        return self.toTensor(states, actions, rewards, next_states, dones)\n",
    "\n",
    "    def __len__(self):\n",
    "        return len(self.buffer)\n"
   ]
  },
  {
   "cell_type": "code",
   "execution_count": 125,
   "metadata": {},
   "outputs": [
    {
     "name": "stdout",
     "output_type": "stream",
     "text": [
      "States:  tensor([[1., 2., 3., 4.],\n",
      "        [5., 6., 7., 8.]]) torch.Size([2, 4])\n",
      "Actions:  tensor([[0],\n",
      "        [1]]) torch.Size([2, 1])\n",
      "Rewards:  tensor([[1.],\n",
      "        [2.]]) torch.Size([2, 1])\n",
      "Next States:  tensor([[ 5.,  6.,  7.,  8.],\n",
      "        [ 9., 10., 11., 12.]]) torch.Size([2, 4])\n",
      "Dones:  tensor([[0.],\n",
      "        [1.]]) torch.Size([2, 1])\n"
     ]
    }
   ],
   "source": [
    "# Test the Experience Replay with a toy example\n",
    "# Initialize the buffer\n",
    "buffer = ExperienceReplayBuffer(1000)\n",
    "\n",
    "# Add a new experience\n",
    "state = np.array([1, 2, 3, 4])\n",
    "action = 0\n",
    "reward = 1\n",
    "next_state = np.array([5, 6, 7, 8])\n",
    "done = False\n",
    "buffer.push(state, action, reward, next_state, done)\n",
    "\n",
    "# Add another experience\n",
    "state = np.array([5, 6, 7, 8])\n",
    "action = 1\n",
    "reward = 2\n",
    "next_state = np.array([9, 10, 11, 12])\n",
    "done = True\n",
    "buffer.push(state, action, reward, next_state, done)\n",
    "\n",
    "# Sample a batch from the buffer\n",
    "batch_size = 2\n",
    "states, actions, rewards, next_states, dones = buffer.sample(batch_size)\n",
    "\n",
    "# The experience replay buffer allow us to sample by batches\n",
    "print(\"States: \", states, states.shape)\n",
    "print(\"Actions: \", actions, actions.shape)\n",
    "print(\"Rewards: \", rewards, rewards.shape)\n",
    "print(\"Next States: \", next_states, next_states.shape)\n",
    "print(\"Dones: \", dones, dones.shape)"
   ]
  },
  {
   "cell_type": "markdown",
   "metadata": {},
   "source": [
    "### Agent\n",
    "\n",
    "Define our Agent class with a train step"
   ]
  },
  {
   "cell_type": "code",
   "execution_count": 132,
   "metadata": {},
   "outputs": [],
   "source": [
    "# Define the Q-Learning agent\n",
    "class DQN_Agent:\n",
    "    def __init__(self, state_dim, action_dim, gamma_td=0.99, lr=0.001):\n",
    "        self.state_dim = state_dim\n",
    "        self.action_dim = action_dim\n",
    "        self.gamma_td = gamma_td\n",
    "        self.lr = lr\n",
    "        \n",
    "        # Define the q-network and target q-network\n",
    "        self.q_network = DQNNetwork(state_dim, action_dim)\n",
    "        self.target_q_network = DQNNetwork(state_dim, action_dim)\n",
    "\n",
    "        # Define the optimizer and loss function\n",
    "        self.optimizer = optim.Adam(list(self.q_network.parameters()), lr=self.lr)\n",
    "        self.criterion = nn.MSELoss()\n",
    "        \n",
    "        self.update_target_network()\n",
    "    \n",
    "    def update_target_network(self):\n",
    "        # Load the weights of the Q-Network\n",
    "        self.target_q_network.load_state_dict(self.q_network.state_dict())\n",
    "    \n",
    "    def select_action(self, state, epsilon):\n",
    "        # TODO: Check if the random are a proper way to sample \n",
    "        # or I should use random from pytorch\n",
    "        if random.random() < epsilon:\n",
    "            return random.randint(0, self.action_dim - 1) # NOTE: -1 because randint is inclusive\n",
    "        else:\n",
    "            state = torch.FloatTensor(state).unsqueeze(0) # Add batch dimension with unsqueeze(0)\n",
    "            q_values = self.q_network(state)\n",
    "            return q_values.argmax().item()\n",
    "        \n",
    "    def train(self, replay_buffer, batch_size):                \n",
    "        # NOTE: At the begining, it's needed some iterations to fill the replay buffer\n",
    "        if len(replay_buffer.buffer) < batch_size:\n",
    "            return 0., 0., 0.\n",
    "        \n",
    "        # Gather a sample from the replay buffer\n",
    "        state, action, reward, next_state, done = replay_buffer.sample(batch_size)\n",
    "\n",
    "        # Calculating the TD-Loss\n",
    "        # q_values shape: (batch_size, 1) before gathering\n",
    "        q_values = self.q_network(state).gather(dim = 1, index = action) \n",
    "\n",
    "        # next_q_values shape: (batch_size, 1) before max\n",
    "        next_q_values = self.target_q_network(next_state).max(dim = 1)[0].unsqueeze(1)\n",
    "\n",
    "        # target_q_values shape: (batch_size, 1)\n",
    "        target_q_values = reward + (1 - done) * self.gamma_td * next_q_values\n",
    "        \n",
    "        # Calculate the TD-Loss\n",
    "        loss = self.criterion(q_values, target_q_values)\n",
    "                \n",
    "        self.optimizer.zero_grad()\n",
    "        loss.backward()\n",
    "        self.optimizer.step()\n",
    "\n",
    "        return loss.item()"
   ]
  },
  {
   "cell_type": "code",
   "execution_count": 127,
   "metadata": {},
   "outputs": [],
   "source": [
    "# Epsilon schedule\n",
    "# epsilon_start = 1.0\n",
    "# epsilon_final = 0.01\n",
    "# epsilon_decay = 500\n",
    "\n",
    "# epsilon_by_frame = lambda frame_idx: epsilon_final + (epsilon_start - epsilon_final) * math.exp(-1. * frame_idx / epsilon_decay)\n",
    "\n",
    "# plt.plot([epsilon_by_frame(i) for i in range(10000)])\n"
   ]
  },
  {
   "cell_type": "code",
   "execution_count": 128,
   "metadata": {},
   "outputs": [],
   "source": [
    "epsilon_start = 1.0\n",
    "epsilon_final = 0.01\n",
    "epsilon_decay = 500\n",
    "\n",
    "epsilon_by_frame = lambda frame_idx: epsilon_final + (epsilon_start - epsilon_final) * math.exp(-1. * frame_idx / epsilon_decay)"
   ]
  },
  {
   "cell_type": "code",
   "execution_count": 129,
   "metadata": {},
   "outputs": [
    {
     "data": {
      "text/plain": [
       "[<matplotlib.lines.Line2D at 0x7fe798048110>]"
      ]
     },
     "execution_count": 129,
     "metadata": {},
     "output_type": "execute_result"
    },
    {
     "data": {
      "image/png": "[encoded data removed]",
      "text/plain": [
       "<Figure size 640x480 with 1 Axes>"
      ]
     },
     "metadata": {},
     "output_type": "display_data"
    }
   ],
   "source": [
    "num_iterations = 2000\n",
    "num_episodes = 3\n",
    "num_total_steps = num_iterations * num_episodes\n",
    "plt.plot([epsilon_by_frame(i) for i in range(num_total_steps)])"
   ]
  },
  {
   "cell_type": "code",
   "execution_count": 135,
   "metadata": {},
   "outputs": [
    {
     "name": "stderr",
     "output_type": "stream",
     "text": [
      "/home/zosov/anaconda3/envs/rl-project/lib/python3.7/site-packages/numpy/core/fromnumeric.py:3441: RuntimeWarning: Mean of empty slice.\n",
      "  out=out, **kwargs)\n",
      "/home/zosov/anaconda3/envs/rl-project/lib/python3.7/site-packages/numpy/core/_methods.py:189: RuntimeWarning: invalid value encountered in double_scalars\n",
      "  ret = ret.dtype.type(ret / rcount)\n"
     ]
    }
   ],
   "source": [
    "from torch.utils.tensorboard import SummaryWriter\n",
    "\n",
    "# Initialize environment\n",
    "env_id = \"CartPole-v1\"\n",
    "env = gym.make(env_id)\n",
    "\n",
    "# Parameters\n",
    "gamma_td = 0.99\n",
    "lr = 0.001\n",
    "# epsilon = 0.1 # I'm using an schedule now\n",
    "state_dim = env.observation_space.shape[0]\n",
    "action_dim = env.action_space.n\n",
    "batch_size = 32\n",
    "capacity = 1000\n",
    "num_iterations = 2000  # iterations of the game per episode\n",
    "num_episodes = 3\n",
    "target_update_frequency = num_iterations\n",
    "log_interval = 1000  # Log metrics every 1000 iterations\n",
    "window_size = 100  # For running average\n",
    "\n",
    "# Initialize agent and replay buffer\n",
    "agent = DQN_Agent(state_dim, action_dim, gamma_td, lr)\n",
    "replay_buffer = ExperienceReplayBuffer(capacity)\n",
    "\n",
    "# Initialize TensorBoard writer\n",
    "writer = SummaryWriter(f\"models/DQN_CartPole-v1_lr_{lr}_gamma_{gamma_td}\")\n",
    "\n",
    "# Metrics storage\n",
    "episode_rewards = []\n",
    "iteration_losses = []\n",
    "running_avg_rewards = []\n",
    "running_avg_losses = []\n",
    "\n",
    "steps_done = 0\n",
    "# Training loop\n",
    "for episode in range(num_episodes):\n",
    "\n",
    "    # Reset environment and get initial state\n",
    "    state, info = env.reset()\n",
    "    episode_reward = 0\n",
    "    episode_loss = 0\n",
    "    episode_length = 0\n",
    "    done = False\n",
    "    iteration = 0\n",
    "\n",
    "    while not done:\n",
    "        epsilon = epsilon_by_frame(episode * num_iterations + iteration)\n",
    "\n",
    "        # Choose what action to take with e-greedy policy\n",
    "        action = agent.select_action(state, epsilon)\n",
    "\n",
    "        # Take a step in the environment\n",
    "        next_state, reward, done, _, _ = env.step(action)\n",
    "        steps_done += 1\n",
    "\n",
    "        # Add the experience to the replay buffer\n",
    "        replay_buffer.push(state, action, reward, next_state, done)\n",
    "\n",
    "        # Train the agent if there are enough experiences\n",
    "        if len(replay_buffer) >= batch_size:\n",
    "            loss = agent.train(replay_buffer, batch_size)\n",
    "            iteration_losses.append(loss)\n",
    "            episode_loss += loss\n",
    "\n",
    "            # Track gradient norm\n",
    "            # for param in agent.q_network.parameters():\n",
    "            #     writer.add_histogram('Gradients/norm', param.grad.norm(), steps_done)\n",
    "\n",
    "        state = next_state\n",
    "        episode_reward += reward\n",
    "        episode_length += 1\n",
    "        iteration += 1\n",
    "\n",
    "        # Update target network periodically\n",
    "        if steps_done % target_update_frequency == 0:\n",
    "            agent.update_target_network()\n",
    "\n",
    "        # Log periodic metrics\n",
    "        if steps_done % log_interval == 0:\n",
    "            avg_loss = np.mean(iteration_losses[-log_interval:])\n",
    "            writer.add_scalar(f'Loss/average_loss_per_{log_interval}_iterations', avg_loss, steps_done)\n",
    "            # writer.add_scalar('Epsilon', epsilon, steps_done)\n",
    "            # writer.add_scalar('Max Q-Value', np.max(agent.q_network(torch.FloatTensor(state).unsqueeze(0))), steps_done)\n",
    "            # writer.add_scalar('Average Q-Value', np.mean(agent.q_network(torch.FloatTensor(state).unsqueeze(0))), steps_done)\n",
    "            # writer.add_scalar('Replay Buffer Utilization', len(replay_buffer) / capacity, steps_done)\n",
    "\n",
    "        if done or iteration >= num_iterations:\n",
    "            break\n",
    "\n",
    "    # Metrics per episode\n",
    "    episode_rewards.append(episode_reward)\n",
    "    avg_episode_loss = episode_loss / episode_length if episode_length > 0 else 0\n",
    "    running_avg_rewards.append(np.mean(episode_rewards[-window_size:]))\n",
    "    running_avg_losses.append(np.mean(iteration_losses[-window_size:]))\n",
    "\n",
    "    # Log metrics\n",
    "    writer.add_scalar('Reward/episode_reward', episode_reward, episode)\n",
    "    writer.add_scalar('Loss/average_loss_per_episode', avg_episode_loss, episode)\n",
    "    # writer.add_scalar('Episode Length', episode_length, episode)\n",
    "    if len(episode_rewards) >= window_size:\n",
    "        writer.add_scalar('Reward/running_average_reward', running_avg_rewards[-1], episode)\n",
    "        writer.add_scalar('Loss/running_average_loss', running_avg_losses[-1], episode)\n",
    "\n",
    "writer.close()"
   ]
  }
 ],
 "metadata": {
  "kernelspec": {
   "display_name": "rl-project",
   "language": "python",
   "name": "python3"
  },
  "language_info": {
   "codemirror_mode": {
    "name": "ipython",
    "version": 3
   },
   "file_extension": ".py",
   "mimetype": "text/x-python",
   "name": "python",
   "nbconvert_exporter": "python",
   "pygments_lexer": "ipython3",
   "version": "3.7.16"
  }
 },
 "nbformat": 4,
 "nbformat_minor": 2
}
