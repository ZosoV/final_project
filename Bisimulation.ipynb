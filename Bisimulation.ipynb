{
 "cells": [
  {
   "cell_type": "markdown",
   "metadata": {},
   "source": [
    "## Bisimulation\n",
    "\n",
    "A bisimulation relation is a way to group states in an MDP such that states in the same group (equivalence class) behave similarly in terms of both rewards and transitions.\n",
    "\n",
    "Conditions for Bisimulation\n",
    "\n",
    "1. **Reward Equivalence**: For any action $a$ in the set of actions $A$, the reward received in state $s$ must be the same as the reward received in state $t$\n",
    "2. **Transition Probability Equivalence**: For any action a in \n",
    "𝑎\n",
    "a in the set of actions \n",
    "𝐴\n",
    "A, and for any equivalence class \n",
    "𝑐\n",
    "c of states, the probability of moving to any state in \n",
    "𝑐\n",
    "c from state \n",
    "𝑠\n",
    "s must be the same as the probability of moving to any state in \n",
    "𝑐\n",
    "c from state \n",
    "𝑡\n",
    "t.\n",
    "\n",
    "Calculate all the possible subsets (groups) among all the states and then check both conditions is really expensive. In fact, if I have n states, I will have a complexity of O(2^n) to calculate all the possible combination of subsets (groups).\n",
    "\n",
    "A better approach is first to group by the reward equivalence condition, and then based on those groups hand made different groups and check if the groups hold the second condition of transition equivalence. This was my approach."
   ]
  },
  {
   "cell_type": "code",
   "execution_count": 63,
   "metadata": {},
   "outputs": [
    {
     "name": "stdout",
     "output_type": "stream",
     "text": [
      "[['.' '.' 'G']\n",
      " ['.' '.' '.']\n",
      " ['x' 'x' 'x']\n",
      " ['.' '.' 'G']\n",
      " ['.' '.' '.']]\n"
     ]
    },
    {
     "data": {
      "text/plain": [
       "{(0, 0): {'up': -1, 'down': -1, 'left': -1, 'right': -1},\n",
       " (0, 1): {'up': -1, 'down': -1, 'left': -1, 'right': 10},\n",
       " (0, 2): {'up': 0, 'down': 0, 'left': 0, 'right': 0},\n",
       " (1, 0): {'up': -1, 'down': -1, 'left': -1, 'right': -1},\n",
       " (1, 1): {'up': -1, 'down': -1, 'left': -1, 'right': -1},\n",
       " (1, 2): {'up': 10, 'down': -1, 'left': -1, 'right': -1},\n",
       " (3, 0): {'up': -1, 'down': -1, 'left': -1, 'right': -1},\n",
       " (3, 1): {'up': -1, 'down': -1, 'left': -1, 'right': 10},\n",
       " (3, 2): {'up': 0, 'down': 0, 'left': 0, 'right': 0},\n",
       " (4, 0): {'up': -1, 'down': -1, 'left': -1, 'right': -1},\n",
       " (4, 1): {'up': -1, 'down': -1, 'left': -1, 'right': -1},\n",
       " (4, 2): {'up': 10, 'down': -1, 'left': -1, 'right': -1}}"
      ]
     },
     "execution_count": 63,
     "metadata": {},
     "output_type": "execute_result"
    }
   ],
   "source": [
    "import numpy as np\n",
    "from collections import defaultdict\n",
    "\n",
    "ACTION_SPACE = ['up', 'down', 'left', 'right']\n",
    "ACTION2IDX = {'u': 0, 'd': 1, 'l': 2, 'r': 3}\n",
    "REWARD_FUNC = {'G': 10, '.': -1, 'T': 1} # goal, empty, terminal\n",
    "\n",
    "\n",
    "def read_grid_world(file_path):\n",
    "    with open(file_path, 'r') as file:\n",
    "        grid = [line.split() for line in file]\n",
    "    return np.array(grid)\n",
    "\n",
    "def get_neighbors(grid, row, col):\n",
    "    neighbors = {\n",
    "        'up': (row - 1, col),\n",
    "        'down': (row + 1, col),\n",
    "        'left': (row, col - 1),\n",
    "        'right': (row, col + 1)\n",
    "    }\n",
    "    valid_neighbors = {}\n",
    "    for action, (r, c) in neighbors.items():\n",
    "        if 0 <= r < grid.shape[0] and 0 <= c < grid.shape[1] and grid[r, c] != 'x':\n",
    "            valid_neighbors[action] = (r, c)\n",
    "        else:\n",
    "            valid_neighbors[action] = (row, col)  # stay in the same state if out of bounds or wall\n",
    "    return valid_neighbors\n",
    "\n",
    "def calculate_rewards_and_transitions(grid):\n",
    "    states = {}\n",
    "    rewards = {}\n",
    "    transitions = {}\n",
    "    for row in range(grid.shape[0]):\n",
    "        for col in range(grid.shape[1]):\n",
    "            state = (row, col)\n",
    "            if grid[row, col] == 'G':\n",
    "                # NOTE: Terminal state in the goal has a reward of 0\n",
    "                rewards[state] = {action: REWARD_FUNC['T'] for action in ACTION_SPACE}\n",
    "                transitions[state] = {action: {state: 1.0} for action in ACTION_SPACE}\n",
    "            elif grid[row, col] == '.':\n",
    "                rewards[state] = {}\n",
    "                transitions[state] = {}\n",
    "                neighbors = get_neighbors(grid, row, col)\n",
    "                for action, (r, c) in neighbors.items():\n",
    "                    if grid[r, c] == 'G':\n",
    "                        rewards[state][action] = REWARD_FUNC['G']\n",
    "                    else:\n",
    "                        rewards[state][action] = REWARD_FUNC['.']\n",
    "                    transitions[state][action] = {(r, c): 1.0}\n",
    "    return rewards, transitions\n",
    "\n",
    "def print_rewards_and_transitions(rewards, transitions):\n",
    "    for state, actions in rewards.items():\n",
    "        print(f\"State {state}:\")\n",
    "        for action, reward in actions.items():\n",
    "            print(f\"  Action {action}: Reward = {reward}, Transition = {transitions[state][action]}\")\n",
    "\n",
    "def print_one_hot_rewards(rewards):\n",
    "    for state, actions in rewards.items():\n",
    "        one_hot_rewards = list(actions.values())\n",
    "        print(\"State\", state, one_hot_rewards)\n",
    "\n",
    "def group_by_reward_equivalente(rewards, policy = None):\n",
    "    groups = defaultdict(list)\n",
    "    for state, actions in rewards.items():\n",
    "\n",
    "        # NOTE: on-policy bisimulation: reward equivalence groups\n",
    "        if policy is not None:\n",
    "\n",
    "            policy_action = policy[state]\n",
    "            if policy_action == ' ': # terminal state\n",
    "                policy_action = 'r' # set any action because leaves to zero reward\n",
    "\n",
    "            policy_action = ACTION2IDX[policy_action]\n",
    "            reward = list(actions.values())[policy_action]\n",
    "            groups[reward].append(state)\n",
    "\n",
    "        # NOTE: bisimulation: reward equivalence groups (group by one_hot_reward)\n",
    "        else: \n",
    "            one_hot_reward = tuple(actions.values())\n",
    "            groups[one_hot_reward].append(state)\n",
    "    return groups\n",
    "\n",
    "def replace_groups_keys(groups):\n",
    "    result = {}\n",
    "    for i, (_, states) in enumerate(groups.items()):\n",
    "        result[f\"c{i + 1}\"] = states\n",
    "    \n",
    "    return result\n",
    "        \n",
    "def state_tuple_to_idx(state, grid):\n",
    "    return state[0] * grid.shape[1] + state[1]\n",
    "\n",
    "def plot_transition_equivalences(groups, probs_per_group_state_group, plot_format = 1):\n",
    "    # Plot one hot per group\n",
    "    print(\"Checking probs one hots by groups: \")\n",
    "    for i, (_, states) in enumerate(groups.items()):\n",
    "        print(f\"c{i + 1}: \")\n",
    "        \n",
    "        assertion_list = []\n",
    "        for state in states:\n",
    "            state_idx = state_tuple_to_idx(state, grid)\n",
    "\n",
    "            tmp_list = []\n",
    "            for j, (_, _) in enumerate(groups.items()):\n",
    "                \n",
    "                if plot_format == 0:\n",
    "                    print(f\"State {state} to group c{j + 1}: \", probs_per_group_state_group[i,state_idx,j,:])\n",
    "                tmp_list.append(list(probs_per_group_state_group[i,state_idx,j,:]))\n",
    "            \n",
    "            if plot_format == 1:\n",
    "                print(\"State {} to all groups: \".format(state), tmp_list)\n",
    "\n",
    "            assertion_list.append(tmp_list)\n",
    "        \n",
    "        # Check if all the list in assertion_list are the same and print a message if not\n",
    "        for i in range(len(assertion_list) - 1):\n",
    "            if assertion_list[i] != assertion_list[i + 1]:\n",
    "                print(f\"The transition probabilities are not the same for all the states in the group c{i + 1}\")\n",
    "                break\n",
    "\n",
    "\n",
    "def check_transition_equivalence(groups, transitions, grid, policy = None, plot_format = 1):\n",
    "\n",
    "    grid = np.array(grid)\n",
    "\n",
    "    n_states = grid.shape[0] * grid.shape[1]\n",
    "\n",
    "    if policy is not None:\n",
    "        probs_per_group_state_group = np.zeros((len(groups), n_states, len(groups), 1))\n",
    "    else:\n",
    "        probs_per_group_state_group = np.zeros((len(groups), n_states, len(groups), 4))\n",
    "\n",
    "    # Loop towards all the groups c1, c2, ..\n",
    "    for i, (_, states) in enumerate(groups.items()):\n",
    "\n",
    "        # Loop towards all the states in the group c_i\n",
    "        for state in states:\n",
    "            \n",
    "            # Loop towards all the groups c1, c2, ..\n",
    "            for j, (_, next_states) in enumerate(groups.items()):\n",
    "                \n",
    "                # On-policy bisimulation: I only need to consider the action that the policy takes\n",
    "                if policy is not None:\n",
    "                    \n",
    "                    policy_action = policy[state]\n",
    "                    if policy_action == ' ': # terminal state\n",
    "                        policy_action = 'r' # set any action because leaves to zero reward\n",
    "\n",
    "                    action = ACTION_SPACE[ACTION2IDX[policy_action]]\n",
    "                        \n",
    "                    tmp_prob = 0\n",
    "                    for next_state in next_states:\n",
    "                        # Check if it is possible to transtion from state to next_state using action\n",
    "                        # if not return 0\n",
    "                        tmp_prob += int(transitions[state][action].get(next_state, 0))\n",
    "\n",
    "                    state_idx = state_tuple_to_idx(state, grid)\n",
    "                    probs_per_group_state_group[i, state_idx, j, 0] = tmp_prob\n",
    "\n",
    "                else:\n",
    "                    \n",
    "                    # Bisimulation: I need to consider all the actions\n",
    "                    for k, action in enumerate(['up', 'down', 'left', 'right']):\n",
    "                                                \n",
    "                        # Loop towards all the states in the group c_j\n",
    "                        tmp_prob = 0\n",
    "                        for next_state in next_states:\n",
    "                            # Check if it is possible to transtion from state to next_state using action\n",
    "                            # if not return 0\n",
    "                            tmp_prob += int(transitions[state][action].get(next_state, 0))\n",
    "\n",
    "\n",
    "                        state_idx = state_tuple_to_idx(state, grid)\n",
    "                        probs_per_group_state_group[i, state_idx, j, k] = tmp_prob\n",
    "    \n",
    "    plot_transition_equivalences(groups, probs_per_group_state_group, plot_format)\n",
    "\n",
    "    return probs_per_group_state_group\n",
    "\n",
    "\n",
    "file_path = 'custom_envs/grid_envs/grid_world.txt'\n",
    "grid = read_grid_world(file_path)\n",
    "print(grid)\n",
    "\n",
    "rewards, transitions = calculate_rewards_and_transitions(grid)\n",
    "rewards"
   ]
  },
  {
   "cell_type": "code",
   "execution_count": 64,
   "metadata": {},
   "outputs": [
    {
     "data": {
      "text/plain": [
       "{(0, 0): {'up': {(0, 0): 1.0},\n",
       "  'down': {(1, 0): 1.0},\n",
       "  'left': {(0, 0): 1.0},\n",
       "  'right': {(0, 1): 1.0}},\n",
       " (0, 1): {'up': {(0, 1): 1.0},\n",
       "  'down': {(1, 1): 1.0},\n",
       "  'left': {(0, 0): 1.0},\n",
       "  'right': {(0, 2): 1.0}},\n",
       " (0, 2): {'up': {(0, 2): 1.0},\n",
       "  'down': {(0, 2): 1.0},\n",
       "  'left': {(0, 2): 1.0},\n",
       "  'right': {(0, 2): 1.0}},\n",
       " (1, 0): {'up': {(0, 0): 1.0},\n",
       "  'down': {(1, 0): 1.0},\n",
       "  'left': {(1, 0): 1.0},\n",
       "  'right': {(1, 1): 1.0}},\n",
       " (1, 1): {'up': {(0, 1): 1.0},\n",
       "  'down': {(1, 1): 1.0},\n",
       "  'left': {(1, 0): 1.0},\n",
       "  'right': {(1, 2): 1.0}},\n",
       " (1, 2): {'up': {(0, 2): 1.0},\n",
       "  'down': {(1, 2): 1.0},\n",
       "  'left': {(1, 1): 1.0},\n",
       "  'right': {(1, 2): 1.0}},\n",
       " (3, 0): {'up': {(3, 0): 1.0},\n",
       "  'down': {(4, 0): 1.0},\n",
       "  'left': {(3, 0): 1.0},\n",
       "  'right': {(3, 1): 1.0}},\n",
       " (3, 1): {'up': {(3, 1): 1.0},\n",
       "  'down': {(4, 1): 1.0},\n",
       "  'left': {(3, 0): 1.0},\n",
       "  'right': {(3, 2): 1.0}},\n",
       " (3, 2): {'up': {(3, 2): 1.0},\n",
       "  'down': {(3, 2): 1.0},\n",
       "  'left': {(3, 2): 1.0},\n",
       "  'right': {(3, 2): 1.0}},\n",
       " (4, 0): {'up': {(3, 0): 1.0},\n",
       "  'down': {(4, 0): 1.0},\n",
       "  'left': {(4, 0): 1.0},\n",
       "  'right': {(4, 1): 1.0}},\n",
       " (4, 1): {'up': {(3, 1): 1.0},\n",
       "  'down': {(4, 1): 1.0},\n",
       "  'left': {(4, 0): 1.0},\n",
       "  'right': {(4, 2): 1.0}},\n",
       " (4, 2): {'up': {(3, 2): 1.0},\n",
       "  'down': {(4, 2): 1.0},\n",
       "  'left': {(4, 1): 1.0},\n",
       "  'right': {(4, 2): 1.0}}}"
      ]
     },
     "execution_count": 64,
     "metadata": {},
     "output_type": "execute_result"
    }
   ],
   "source": [
    "transitions"
   ]
  },
  {
   "cell_type": "code",
   "execution_count": 65,
   "metadata": {},
   "outputs": [
    {
     "name": "stdout",
     "output_type": "stream",
     "text": [
      "Grouping by same rewards: \n"
     ]
    },
    {
     "data": {
      "text/plain": [
       "{'c1': [(0, 0), (1, 0), (1, 1), (3, 0), (4, 0), (4, 1)],\n",
       " 'c2': [(0, 1), (3, 1)],\n",
       " 'c3': [(0, 2), (3, 2)],\n",
       " 'c4': [(1, 2), (4, 2)]}"
      ]
     },
     "execution_count": 65,
     "metadata": {},
     "output_type": "execute_result"
    }
   ],
   "source": [
    "groups = group_by_reward_equivalente(rewards)\n",
    "groups = replace_groups_keys(groups)\n",
    "\n",
    "# print groups and name them as bisimulated states c1, c2, c3, ...\n",
    "print(\"Grouping by same rewards: \")\n",
    "groups"
   ]
  },
  {
   "cell_type": "code",
   "execution_count": 66,
   "metadata": {},
   "outputs": [
    {
     "name": "stdout",
     "output_type": "stream",
     "text": [
      "Checking probs one hots by groups: \n",
      "c1: \n",
      "State (0, 0) to all groups:  [[1.0, 1.0, 1.0, 0.0], [0.0, 0.0, 0.0, 1.0], [0.0, 0.0, 0.0, 0.0], [0.0, 0.0, 0.0, 0.0]]\n",
      "State (1, 0) to all groups:  [[1.0, 1.0, 1.0, 1.0], [0.0, 0.0, 0.0, 0.0], [0.0, 0.0, 0.0, 0.0], [0.0, 0.0, 0.0, 0.0]]\n",
      "State (1, 1) to all groups:  [[0.0, 1.0, 1.0, 0.0], [1.0, 0.0, 0.0, 0.0], [0.0, 0.0, 0.0, 0.0], [0.0, 0.0, 0.0, 1.0]]\n",
      "State (3, 0) to all groups:  [[1.0, 1.0, 1.0, 0.0], [0.0, 0.0, 0.0, 1.0], [0.0, 0.0, 0.0, 0.0], [0.0, 0.0, 0.0, 0.0]]\n",
      "State (4, 0) to all groups:  [[1.0, 1.0, 1.0, 1.0], [0.0, 0.0, 0.0, 0.0], [0.0, 0.0, 0.0, 0.0], [0.0, 0.0, 0.0, 0.0]]\n",
      "State (4, 1) to all groups:  [[0.0, 1.0, 1.0, 0.0], [1.0, 0.0, 0.0, 0.0], [0.0, 0.0, 0.0, 0.0], [0.0, 0.0, 0.0, 1.0]]\n",
      "The transition probabilities are not the same for all the states in the group c1\n",
      "c2: \n",
      "State (0, 1) to all groups:  [[0.0, 1.0, 1.0, 0.0], [1.0, 0.0, 0.0, 0.0], [0.0, 0.0, 0.0, 1.0], [0.0, 0.0, 0.0, 0.0]]\n",
      "State (3, 1) to all groups:  [[0.0, 1.0, 1.0, 0.0], [1.0, 0.0, 0.0, 0.0], [0.0, 0.0, 0.0, 1.0], [0.0, 0.0, 0.0, 0.0]]\n",
      "c3: \n",
      "State (0, 2) to all groups:  [[0.0, 0.0, 0.0, 0.0], [0.0, 0.0, 0.0, 0.0], [1.0, 1.0, 1.0, 1.0], [0.0, 0.0, 0.0, 0.0]]\n",
      "State (3, 2) to all groups:  [[0.0, 0.0, 0.0, 0.0], [0.0, 0.0, 0.0, 0.0], [1.0, 1.0, 1.0, 1.0], [0.0, 0.0, 0.0, 0.0]]\n",
      "c4: \n",
      "State (1, 2) to all groups:  [[0.0, 0.0, 1.0, 0.0], [0.0, 0.0, 0.0, 0.0], [1.0, 0.0, 0.0, 0.0], [0.0, 1.0, 0.0, 1.0]]\n",
      "State (4, 2) to all groups:  [[0.0, 0.0, 1.0, 0.0], [0.0, 0.0, 0.0, 0.0], [1.0, 0.0, 0.0, 0.0], [0.0, 1.0, 0.0, 1.0]]\n"
     ]
    }
   ],
   "source": [
    "_ = check_transition_equivalence(groups, transitions, grid)"
   ]
  },
  {
   "cell_type": "code",
   "execution_count": 67,
   "metadata": {},
   "outputs": [
    {
     "data": {
      "text/plain": [
       "{'c1': [(0, 2), (3, 2)],\n",
       " 'c2': [(0, 1), (3, 1)],\n",
       " 'c3': [(0, 0), (3, 0)],\n",
       " 'c4': [(1, 0), (4, 0)],\n",
       " 'c5': [(1, 1), (4, 1)],\n",
       " 'c6': [(1, 2), (4, 2)]}"
      ]
     },
     "execution_count": 67,
     "metadata": {},
     "output_type": "execute_result"
    }
   ],
   "source": [
    "# Hand made groups by considering that the previous groups have the same reward\n",
    "groups = {\n",
    "    \"c1\" : [(0,2), (3,2)], # Goal first\n",
    "    \"c2\" : [(0,1), (3,1)], # Close to goal\n",
    "    \"c3\" : [(0,0), (3,0)], \n",
    "    \"c4\" : [(1,0), (4,0)],\n",
    "    \"c5\" : [(1,1), (4,1)],\n",
    "    \"c6\" : [(1,2), (4,2)],\n",
    "}\n",
    "groups"
   ]
  },
  {
   "cell_type": "code",
   "execution_count": 68,
   "metadata": {},
   "outputs": [
    {
     "name": "stdout",
     "output_type": "stream",
     "text": [
      "Checking probs one hots by groups: \n",
      "c1: \n",
      "State (0, 2) to all groups:  [[1.0, 1.0, 1.0, 1.0], [0.0, 0.0, 0.0, 0.0], [0.0, 0.0, 0.0, 0.0], [0.0, 0.0, 0.0, 0.0], [0.0, 0.0, 0.0, 0.0], [0.0, 0.0, 0.0, 0.0]]\n",
      "State (3, 2) to all groups:  [[1.0, 1.0, 1.0, 1.0], [0.0, 0.0, 0.0, 0.0], [0.0, 0.0, 0.0, 0.0], [0.0, 0.0, 0.0, 0.0], [0.0, 0.0, 0.0, 0.0], [0.0, 0.0, 0.0, 0.0]]\n",
      "c2: \n",
      "State (0, 1) to all groups:  [[0.0, 0.0, 0.0, 1.0], [1.0, 0.0, 0.0, 0.0], [0.0, 0.0, 1.0, 0.0], [0.0, 0.0, 0.0, 0.0], [0.0, 1.0, 0.0, 0.0], [0.0, 0.0, 0.0, 0.0]]\n",
      "State (3, 1) to all groups:  [[0.0, 0.0, 0.0, 1.0], [1.0, 0.0, 0.0, 0.0], [0.0, 0.0, 1.0, 0.0], [0.0, 0.0, 0.0, 0.0], [0.0, 1.0, 0.0, 0.0], [0.0, 0.0, 0.0, 0.0]]\n",
      "c3: \n",
      "State (0, 0) to all groups:  [[0.0, 0.0, 0.0, 0.0], [0.0, 0.0, 0.0, 1.0], [1.0, 0.0, 1.0, 0.0], [0.0, 1.0, 0.0, 0.0], [0.0, 0.0, 0.0, 0.0], [0.0, 0.0, 0.0, 0.0]]\n",
      "State (3, 0) to all groups:  [[0.0, 0.0, 0.0, 0.0], [0.0, 0.0, 0.0, 1.0], [1.0, 0.0, 1.0, 0.0], [0.0, 1.0, 0.0, 0.0], [0.0, 0.0, 0.0, 0.0], [0.0, 0.0, 0.0, 0.0]]\n",
      "c4: \n",
      "State (1, 0) to all groups:  [[0.0, 0.0, 0.0, 0.0], [0.0, 0.0, 0.0, 0.0], [1.0, 0.0, 0.0, 0.0], [0.0, 1.0, 1.0, 0.0], [0.0, 0.0, 0.0, 1.0], [0.0, 0.0, 0.0, 0.0]]\n",
      "State (4, 0) to all groups:  [[0.0, 0.0, 0.0, 0.0], [0.0, 0.0, 0.0, 0.0], [1.0, 0.0, 0.0, 0.0], [0.0, 1.0, 1.0, 0.0], [0.0, 0.0, 0.0, 1.0], [0.0, 0.0, 0.0, 0.0]]\n",
      "c5: \n",
      "State (1, 1) to all groups:  [[0.0, 0.0, 0.0, 0.0], [1.0, 0.0, 0.0, 0.0], [0.0, 0.0, 0.0, 0.0], [0.0, 0.0, 1.0, 0.0], [0.0, 1.0, 0.0, 0.0], [0.0, 0.0, 0.0, 1.0]]\n",
      "State (4, 1) to all groups:  [[0.0, 0.0, 0.0, 0.0], [1.0, 0.0, 0.0, 0.0], [0.0, 0.0, 0.0, 0.0], [0.0, 0.0, 1.0, 0.0], [0.0, 1.0, 0.0, 0.0], [0.0, 0.0, 0.0, 1.0]]\n",
      "c6: \n",
      "State (1, 2) to all groups:  [[1.0, 0.0, 0.0, 0.0], [0.0, 0.0, 0.0, 0.0], [0.0, 0.0, 0.0, 0.0], [0.0, 0.0, 0.0, 0.0], [0.0, 0.0, 1.0, 0.0], [0.0, 1.0, 0.0, 1.0]]\n",
      "State (4, 2) to all groups:  [[1.0, 0.0, 0.0, 0.0], [0.0, 0.0, 0.0, 0.0], [0.0, 0.0, 0.0, 0.0], [0.0, 0.0, 0.0, 0.0], [0.0, 0.0, 1.0, 0.0], [0.0, 1.0, 0.0, 1.0]]\n"
     ]
    }
   ],
   "source": [
    "_ = check_transition_equivalence(groups, transitions, grid)"
   ]
  },
  {
   "cell_type": "code",
   "execution_count": 69,
   "metadata": {},
   "outputs": [
    {
     "data": {
      "image/png": "[encoded data removed]",
      "text/plain": [
       "<Figure size 800x600 with 2 Axes>"
      ]
     },
     "metadata": {},
     "output_type": "display_data"
    }
   ],
   "source": [
    "from collections import OrderedDict\n",
    "import numpy as np\n",
    "import matplotlib.pyplot as plt\n",
    "import matplotlib.patches as patches\n",
    "from matplotlib.colors import ListedColormap\n",
    "import seaborn as sns\n",
    "\n",
    "def plot_grid_with_groups(grid, groups, valid_states, title = 'Bisimulation Groups'):\n",
    "\n",
    "    def get_group_idx(groups, state):\n",
    "        for idx, (group, states) in enumerate(groups.items()):\n",
    "            if state in states:\n",
    "                return idx\n",
    "        return -1\n",
    "\n",
    "    # Create a grid with NaN values for invalid states\n",
    "    heatmap = np.full(grid.shape, np.nan)\n",
    "\n",
    "    # Fill the grid with the normalized distances\n",
    "    for idx, (r, c) in enumerate(valid_states):\n",
    "        heatmap[r, c] = get_group_idx(groups, (r, c))\n",
    "\n",
    "    # Plot the heatmap\n",
    "    plt.figure(figsize=(8, 6))\n",
    "    sns.heatmap(heatmap, annot=True, cmap='viridis', cbar=True, square=True, linewidths=0.5)\n",
    "    plt.title(title)\n",
    "    plt.xlabel('Column')\n",
    "    plt.ylabel('Row')\n",
    "    plt.xticks(ticks=np.arange(3) + 0.5, labels=np.arange(3))\n",
    "    plt.yticks(ticks=np.arange(5) + 0.5, labels=np.arange(5))\n",
    "    plt.show()\n",
    "\n",
    "plot_grid_with_groups(grid, groups, list(rewards.keys()))"
   ]
  },
  {
   "cell_type": "code",
   "execution_count": 70,
   "metadata": {},
   "outputs": [
    {
     "name": "stdout",
     "output_type": "stream",
     "text": [
      "[['.' '.' 'G']\n",
      " ['.' '.' '.']\n",
      " ['x' '.' 'x']\n",
      " ['.' '.' 'G']\n",
      " ['.' '.' '.']]\n"
     ]
    }
   ],
   "source": [
    "# Define the grid world environment\n",
    "file_path = 'custom_envs/grid_envs/grid_world1.txt'\n",
    "grid = read_grid_world(file_path)\n",
    "print(grid)\n",
    "\n",
    "rewards, transitions = calculate_rewards_and_transitions(grid)"
   ]
  },
  {
   "cell_type": "code",
   "execution_count": 71,
   "metadata": {},
   "outputs": [
    {
     "data": {
      "text/plain": [
       "{'c1': [(0, 2)],\n",
       " 'c2': [(0, 1)],\n",
       " 'c3': [(0, 0)],\n",
       " 'c4': [(1, 0)],\n",
       " 'c5': [(1, 1)],\n",
       " 'c6': [(1, 2)],\n",
       " 'c7': [(2, 1)],\n",
       " 'c8': [(3, 0)],\n",
       " 'c9': [(3, 1)],\n",
       " 'c10': [(3, 2)],\n",
       " 'c11': [(4, 0)],\n",
       " 'c12': [(4, 1)],\n",
       " 'c13': [(4, 2)]}"
      ]
     },
     "execution_count": 71,
     "metadata": {},
     "output_type": "execute_result"
    }
   ],
   "source": [
    "# Hand made groups by considering that the previous groups have the same reward\n",
    "# groups = {\n",
    "#     f\"c{i + 1}\" : [state] for i, state in enumerate(list(rewards.keys()))\n",
    "# }\n",
    "groups = {\n",
    " 'c1': [(0, 2)],\n",
    " 'c2': [(0, 1)],\n",
    " 'c3': [(0, 0)],\n",
    " 'c4': [(1, 0)],\n",
    " 'c5': [(1, 1)],\n",
    " 'c6': [(1, 2)],\n",
    " 'c7': [(2, 1)],\n",
    " 'c8': [(3, 0)],\n",
    " 'c9': [(3, 1)],\n",
    " 'c10': [(3, 2)],\n",
    " 'c11': [(4, 0)],\n",
    " 'c12': [(4, 1)],\n",
    " 'c13': [(4, 2)]}\n",
    "groups"
   ]
  },
  {
   "cell_type": "code",
   "execution_count": 72,
   "metadata": {},
   "outputs": [
    {
     "name": "stdout",
     "output_type": "stream",
     "text": [
      "Checking probs one hots by groups: \n",
      "c1: \n",
      "State (0, 2) to all groups:  [[1.0, 1.0, 1.0, 1.0], [0.0, 0.0, 0.0, 0.0], [0.0, 0.0, 0.0, 0.0], [0.0, 0.0, 0.0, 0.0], [0.0, 0.0, 0.0, 0.0], [0.0, 0.0, 0.0, 0.0], [0.0, 0.0, 0.0, 0.0], [0.0, 0.0, 0.0, 0.0], [0.0, 0.0, 0.0, 0.0], [0.0, 0.0, 0.0, 0.0], [0.0, 0.0, 0.0, 0.0], [0.0, 0.0, 0.0, 0.0], [0.0, 0.0, 0.0, 0.0]]\n",
      "c2: \n",
      "State (0, 1) to all groups:  [[0.0, 0.0, 0.0, 1.0], [1.0, 0.0, 0.0, 0.0], [0.0, 0.0, 1.0, 0.0], [0.0, 0.0, 0.0, 0.0], [0.0, 1.0, 0.0, 0.0], [0.0, 0.0, 0.0, 0.0], [0.0, 0.0, 0.0, 0.0], [0.0, 0.0, 0.0, 0.0], [0.0, 0.0, 0.0, 0.0], [0.0, 0.0, 0.0, 0.0], [0.0, 0.0, 0.0, 0.0], [0.0, 0.0, 0.0, 0.0], [0.0, 0.0, 0.0, 0.0]]\n",
      "c3: \n",
      "State (0, 0) to all groups:  [[0.0, 0.0, 0.0, 0.0], [0.0, 0.0, 0.0, 1.0], [1.0, 0.0, 1.0, 0.0], [0.0, 1.0, 0.0, 0.0], [0.0, 0.0, 0.0, 0.0], [0.0, 0.0, 0.0, 0.0], [0.0, 0.0, 0.0, 0.0], [0.0, 0.0, 0.0, 0.0], [0.0, 0.0, 0.0, 0.0], [0.0, 0.0, 0.0, 0.0], [0.0, 0.0, 0.0, 0.0], [0.0, 0.0, 0.0, 0.0], [0.0, 0.0, 0.0, 0.0]]\n",
      "c4: \n",
      "State (1, 0) to all groups:  [[0.0, 0.0, 0.0, 0.0], [0.0, 0.0, 0.0, 0.0], [1.0, 0.0, 0.0, 0.0], [0.0, 1.0, 1.0, 0.0], [0.0, 0.0, 0.0, 1.0], [0.0, 0.0, 0.0, 0.0], [0.0, 0.0, 0.0, 0.0], [0.0, 0.0, 0.0, 0.0], [0.0, 0.0, 0.0, 0.0], [0.0, 0.0, 0.0, 0.0], [0.0, 0.0, 0.0, 0.0], [0.0, 0.0, 0.0, 0.0], [0.0, 0.0, 0.0, 0.0]]\n",
      "c5: \n",
      "State (1, 1) to all groups:  [[0.0, 0.0, 0.0, 0.0], [1.0, 0.0, 0.0, 0.0], [0.0, 0.0, 0.0, 0.0], [0.0, 0.0, 1.0, 0.0], [0.0, 0.0, 0.0, 0.0], [0.0, 0.0, 0.0, 1.0], [0.0, 1.0, 0.0, 0.0], [0.0, 0.0, 0.0, 0.0], [0.0, 0.0, 0.0, 0.0], [0.0, 0.0, 0.0, 0.0], [0.0, 0.0, 0.0, 0.0], [0.0, 0.0, 0.0, 0.0], [0.0, 0.0, 0.0, 0.0]]\n",
      "c6: \n",
      "State (1, 2) to all groups:  [[1.0, 0.0, 0.0, 0.0], [0.0, 0.0, 0.0, 0.0], [0.0, 0.0, 0.0, 0.0], [0.0, 0.0, 0.0, 0.0], [0.0, 0.0, 1.0, 0.0], [0.0, 1.0, 0.0, 1.0], [0.0, 0.0, 0.0, 0.0], [0.0, 0.0, 0.0, 0.0], [0.0, 0.0, 0.0, 0.0], [0.0, 0.0, 0.0, 0.0], [0.0, 0.0, 0.0, 0.0], [0.0, 0.0, 0.0, 0.0], [0.0, 0.0, 0.0, 0.0]]\n",
      "c7: \n",
      "State (2, 1) to all groups:  [[0.0, 0.0, 0.0, 0.0], [0.0, 0.0, 0.0, 0.0], [0.0, 0.0, 0.0, 0.0], [0.0, 0.0, 0.0, 0.0], [1.0, 0.0, 0.0, 0.0], [0.0, 0.0, 0.0, 0.0], [0.0, 0.0, 1.0, 1.0], [0.0, 0.0, 0.0, 0.0], [0.0, 1.0, 0.0, 0.0], [0.0, 0.0, 0.0, 0.0], [0.0, 0.0, 0.0, 0.0], [0.0, 0.0, 0.0, 0.0], [0.0, 0.0, 0.0, 0.0]]\n",
      "c8: \n",
      "State (3, 0) to all groups:  [[0.0, 0.0, 0.0, 0.0], [0.0, 0.0, 0.0, 0.0], [0.0, 0.0, 0.0, 0.0], [0.0, 0.0, 0.0, 0.0], [0.0, 0.0, 0.0, 0.0], [0.0, 0.0, 0.0, 0.0], [0.0, 0.0, 0.0, 0.0], [1.0, 0.0, 1.0, 0.0], [0.0, 0.0, 0.0, 1.0], [0.0, 0.0, 0.0, 0.0], [0.0, 1.0, 0.0, 0.0], [0.0, 0.0, 0.0, 0.0], [0.0, 0.0, 0.0, 0.0]]\n",
      "c9: \n",
      "State (3, 1) to all groups:  [[0.0, 0.0, 0.0, 0.0], [0.0, 0.0, 0.0, 0.0], [0.0, 0.0, 0.0, 0.0], [0.0, 0.0, 0.0, 0.0], [0.0, 0.0, 0.0, 0.0], [0.0, 0.0, 0.0, 0.0], [1.0, 0.0, 0.0, 0.0], [0.0, 0.0, 1.0, 0.0], [0.0, 0.0, 0.0, 0.0], [0.0, 0.0, 0.0, 1.0], [0.0, 0.0, 0.0, 0.0], [0.0, 1.0, 0.0, 0.0], [0.0, 0.0, 0.0, 0.0]]\n",
      "c10: \n",
      "State (3, 2) to all groups:  [[0.0, 0.0, 0.0, 0.0], [0.0, 0.0, 0.0, 0.0], [0.0, 0.0, 0.0, 0.0], [0.0, 0.0, 0.0, 0.0], [0.0, 0.0, 0.0, 0.0], [0.0, 0.0, 0.0, 0.0], [0.0, 0.0, 0.0, 0.0], [0.0, 0.0, 0.0, 0.0], [0.0, 0.0, 0.0, 0.0], [1.0, 1.0, 1.0, 1.0], [0.0, 0.0, 0.0, 0.0], [0.0, 0.0, 0.0, 0.0], [0.0, 0.0, 0.0, 0.0]]\n",
      "c11: \n",
      "State (4, 0) to all groups:  [[0.0, 0.0, 0.0, 0.0], [0.0, 0.0, 0.0, 0.0], [0.0, 0.0, 0.0, 0.0], [0.0, 0.0, 0.0, 0.0], [0.0, 0.0, 0.0, 0.0], [0.0, 0.0, 0.0, 0.0], [0.0, 0.0, 0.0, 0.0], [1.0, 0.0, 0.0, 0.0], [0.0, 0.0, 0.0, 0.0], [0.0, 0.0, 0.0, 0.0], [0.0, 1.0, 1.0, 0.0], [0.0, 0.0, 0.0, 1.0], [0.0, 0.0, 0.0, 0.0]]\n",
      "c12: \n",
      "State (4, 1) to all groups:  [[0.0, 0.0, 0.0, 0.0], [0.0, 0.0, 0.0, 0.0], [0.0, 0.0, 0.0, 0.0], [0.0, 0.0, 0.0, 0.0], [0.0, 0.0, 0.0, 0.0], [0.0, 0.0, 0.0, 0.0], [0.0, 0.0, 0.0, 0.0], [0.0, 0.0, 0.0, 0.0], [1.0, 0.0, 0.0, 0.0], [0.0, 0.0, 0.0, 0.0], [0.0, 0.0, 1.0, 0.0], [0.0, 1.0, 0.0, 0.0], [0.0, 0.0, 0.0, 1.0]]\n",
      "c13: \n",
      "State (4, 2) to all groups:  [[0.0, 0.0, 0.0, 0.0], [0.0, 0.0, 0.0, 0.0], [0.0, 0.0, 0.0, 0.0], [0.0, 0.0, 0.0, 0.0], [0.0, 0.0, 0.0, 0.0], [0.0, 0.0, 0.0, 0.0], [0.0, 0.0, 0.0, 0.0], [0.0, 0.0, 0.0, 0.0], [0.0, 0.0, 0.0, 0.0], [1.0, 0.0, 0.0, 0.0], [0.0, 0.0, 0.0, 0.0], [0.0, 0.0, 1.0, 0.0], [0.0, 1.0, 0.0, 1.0]]\n"
     ]
    }
   ],
   "source": [
    "_ = check_transition_equivalence(groups, transitions, grid)"
   ]
  },
  {
   "cell_type": "code",
   "execution_count": 73,
   "metadata": {},
   "outputs": [
    {
     "data": {
      "image/png": "[encoded data removed]",
      "text/plain": [
       "<Figure size 800x600 with 2 Axes>"
      ]
     },
     "metadata": {},
     "output_type": "display_data"
    }
   ],
   "source": [
    "plot_grid_with_groups(grid, groups, list(rewards.keys()))"
   ]
  },
  {
   "cell_type": "markdown",
   "metadata": {},
   "source": [
    "## On-Policy Bisimulaiton"
   ]
  },
  {
   "cell_type": "code",
   "execution_count": 74,
   "metadata": {},
   "outputs": [
    {
     "name": "stdout",
     "output_type": "stream",
     "text": [
      "[['.' '.' 'G']\n",
      " ['.' '.' '.']\n",
      " ['x' 'x' 'x']\n",
      " ['.' '.' 'G']\n",
      " ['.' '.' '.']]\n",
      "Optimal Value Function:\n",
      "[[ 8.  10.   0. ]\n",
      " [ 6.2  8.  10. ]\n",
      " [ 0.   0.   0. ]\n",
      " [ 8.  10.   0. ]\n",
      " [ 6.2  8.  10. ]]\n",
      "\n",
      "Optimal Policy:\n",
      "[['r' 'r' ' ']\n",
      " ['u' 'u' 'u']\n",
      " [' ' ' ' ' ']\n",
      " ['r' 'r' ' ']\n",
      " ['u' 'u' 'u']]\n"
     ]
    }
   ],
   "source": [
    "import numpy as np\n",
    "\n",
    "def value_iteration(grid, gamma=0.9, epsilon=1e-4):\n",
    "    # Define parameters\n",
    "    rows, cols = grid.shape\n",
    "    gamma = 0.9\n",
    "    # reward_goal = 10\n",
    "    epsilon = 1e-4\n",
    "\n",
    "    # Initialize value function\n",
    "    V = np.zeros((rows, cols))\n",
    "\n",
    "    # Define the transition probabilities and rewards\n",
    "    def get_next_state(r, c, action):\n",
    "        if action == 'up':\n",
    "            return max(r - 1, 0), c\n",
    "        elif action == 'down':\n",
    "            return min(r + 1, rows - 1), c\n",
    "        elif action == 'left':\n",
    "            return r, max(c - 1, 0)\n",
    "        elif action == 'right':\n",
    "            return r, min(c + 1, cols - 1)\n",
    "        \n",
    "    def reward(r, c):\n",
    "        if grid[r][c] == 'G':\n",
    "            return REWARD_FUNC['G']\n",
    "        else:\n",
    "            return REWARD_FUNC['.']\n",
    "\n",
    "    def is_terminal(r, c):\n",
    "        return grid[r][c] == 'G' or grid[r][c] == 'x'\n",
    "\n",
    "    # Value iteration\n",
    "    while True:\n",
    "        delta = 0\n",
    "        new_V = np.copy(V)\n",
    "        for r in range(rows):\n",
    "            for c in range(cols):\n",
    "                if not is_terminal(r, c):\n",
    "                    max_value = float('-inf')\n",
    "                    for action in ACTION_SPACE:\n",
    "                        next_r, next_c = get_next_state(r, c, action)\n",
    "                        if grid[next_r][next_c] != 'x':\n",
    "                            value = reward(next_r, next_c) + gamma * V[next_r][next_c]\n",
    "                            if value > max_value:\n",
    "                                max_value = value\n",
    "                    new_V[r][c] = max_value\n",
    "                    delta = max(delta, abs(new_V[r][c] - V[r][c]))\n",
    "        V = new_V\n",
    "        if delta < epsilon:\n",
    "            break\n",
    "\n",
    "    # Extract policy\n",
    "    policy = np.full((rows, cols), ' ')\n",
    "    for r in range(rows):\n",
    "        for c in range(cols):\n",
    "            if not is_terminal(r, c):\n",
    "                max_value = float('-inf')\n",
    "                best_action = None\n",
    "                for action in ACTION_SPACE:\n",
    "                    next_r, next_c = get_next_state(r, c, action)\n",
    "                    if grid[next_r][next_c] != 'x':\n",
    "                        value = reward(next_r, next_c) + gamma * V[next_r][next_c]\n",
    "                        if value > max_value:\n",
    "                            max_value = value\n",
    "                            best_action = action\n",
    "                policy[r][c] = best_action[0]  # Just take the first letter of the action\n",
    "\n",
    "    return V, policy\n",
    "\n",
    "# Define the grid world environment\n",
    "file_path = 'custom_envs/grid_envs/grid_world.txt'\n",
    "grid = read_grid_world(file_path)\n",
    "print(grid)\n",
    "\n",
    "rewards, transitions = calculate_rewards_and_transitions(grid)\n",
    "\n",
    "# Run value iteration\n",
    "V, policy = value_iteration(grid)\n",
    "\n",
    "# Display the results\n",
    "print(\"Optimal Value Function:\")\n",
    "print(V)\n",
    "print(\"\\nOptimal Policy:\")\n",
    "print(policy)\n"
   ]
  },
  {
   "cell_type": "code",
   "execution_count": 75,
   "metadata": {},
   "outputs": [
    {
     "data": {
      "text/plain": [
       "defaultdict(list,\n",
       "            {-1: [(0, 0), (1, 0), (1, 1), (3, 0), (4, 0), (4, 1)],\n",
       "             10: [(0, 1), (1, 2), (3, 1), (4, 2)],\n",
       "             0: [(0, 2), (3, 2)]})"
      ]
     },
     "execution_count": 75,
     "metadata": {},
     "output_type": "execute_result"
    }
   ],
   "source": [
    "groups = group_by_reward_equivalente(rewards, policy)\n",
    "# groups = replace_one_hot_key_with_group(groups)\n",
    "\n",
    "groups"
   ]
  },
  {
   "cell_type": "code",
   "execution_count": 76,
   "metadata": {},
   "outputs": [
    {
     "name": "stdout",
     "output_type": "stream",
     "text": [
      "Checking probs one hots by groups: \n",
      "c1: \n",
      "State (0, 0) to all groups:  [[0.0], [1.0], [0.0]]\n",
      "State (1, 0) to all groups:  [[1.0], [0.0], [0.0]]\n",
      "State (1, 1) to all groups:  [[0.0], [1.0], [0.0]]\n",
      "State (3, 0) to all groups:  [[0.0], [1.0], [0.0]]\n",
      "State (4, 0) to all groups:  [[1.0], [0.0], [0.0]]\n",
      "State (4, 1) to all groups:  [[0.0], [1.0], [0.0]]\n",
      "The transition probabilities are not the same for all the states in the group c1\n",
      "c2: \n",
      "State (0, 1) to all groups:  [[0.0], [0.0], [1.0]]\n",
      "State (1, 2) to all groups:  [[0.0], [0.0], [1.0]]\n",
      "State (3, 1) to all groups:  [[0.0], [0.0], [1.0]]\n",
      "State (4, 2) to all groups:  [[0.0], [0.0], [1.0]]\n",
      "c3: \n",
      "State (0, 2) to all groups:  [[0.0], [0.0], [1.0]]\n",
      "State (3, 2) to all groups:  [[0.0], [0.0], [1.0]]\n"
     ]
    }
   ],
   "source": [
    "_ = check_transition_equivalence(groups, transitions, grid, policy)\n"
   ]
  },
  {
   "cell_type": "code",
   "execution_count": 77,
   "metadata": {},
   "outputs": [],
   "source": [
    "# Hand mande groups\n",
    "groups = {\n",
    "    \"c1\" : [(0,2), (3,2)],\n",
    "    \"c2\" : [(0, 1), (1, 2), (3, 1), (4, 2)],\n",
    "    \"c3\" : [(0,0), (3,0), (1, 1), (4, 1)],\n",
    "    \"c4\" : [(1,0), (4,0)],\n",
    "}"
   ]
  },
  {
   "cell_type": "code",
   "execution_count": 78,
   "metadata": {},
   "outputs": [
    {
     "name": "stdout",
     "output_type": "stream",
     "text": [
      "Checking probs one hots by groups: \n",
      "c1: \n",
      "State (0, 2) to all groups:  [[1.0], [0.0], [0.0], [0.0]]\n",
      "State (3, 2) to all groups:  [[1.0], [0.0], [0.0], [0.0]]\n",
      "c2: \n",
      "State (0, 1) to all groups:  [[1.0], [0.0], [0.0], [0.0]]\n",
      "State (1, 2) to all groups:  [[1.0], [0.0], [0.0], [0.0]]\n",
      "State (3, 1) to all groups:  [[1.0], [0.0], [0.0], [0.0]]\n",
      "State (4, 2) to all groups:  [[1.0], [0.0], [0.0], [0.0]]\n",
      "c3: \n",
      "State (0, 0) to all groups:  [[0.0], [1.0], [0.0], [0.0]]\n",
      "State (3, 0) to all groups:  [[0.0], [1.0], [0.0], [0.0]]\n",
      "State (1, 1) to all groups:  [[0.0], [1.0], [0.0], [0.0]]\n",
      "State (4, 1) to all groups:  [[0.0], [1.0], [0.0], [0.0]]\n",
      "c4: \n",
      "State (1, 0) to all groups:  [[0.0], [0.0], [1.0], [0.0]]\n",
      "State (4, 0) to all groups:  [[0.0], [0.0], [1.0], [0.0]]\n"
     ]
    }
   ],
   "source": [
    "_ = check_transition_equivalence(groups, transitions, grid, policy)\n"
   ]
  },
  {
   "cell_type": "code",
   "execution_count": 79,
   "metadata": {},
   "outputs": [
    {
     "data": {
      "image/png": "[encoded data removed]",
      "text/plain": [
       "<Figure size 800x600 with 2 Axes>"
      ]
     },
     "metadata": {},
     "output_type": "display_data"
    }
   ],
   "source": [
    "plot_grid_with_groups(grid, groups, list(rewards.keys()), title = 'Bisimulation Groups with Optimal Policy')"
   ]
  },
  {
   "cell_type": "markdown",
   "metadata": {},
   "source": [
    "### Opening a passage"
   ]
  },
  {
   "cell_type": "code",
   "execution_count": 80,
   "metadata": {},
   "outputs": [
    {
     "name": "stdout",
     "output_type": "stream",
     "text": [
      "[['.' '.' 'G']\n",
      " ['.' '.' '.']\n",
      " ['x' '.' 'x']\n",
      " ['.' '.' 'G']\n",
      " ['.' '.' '.']]\n",
      "Optimal Value Function:\n",
      "[[ 8.  10.   0. ]\n",
      " [ 6.2  8.  10. ]\n",
      " [ 0.   8.   0. ]\n",
      " [ 8.  10.   0. ]\n",
      " [ 6.2  8.  10. ]]\n",
      "\n",
      "Optimal Policy:\n",
      "[['r' 'r' ' ']\n",
      " ['u' 'u' 'u']\n",
      " [' ' 'd' ' ']\n",
      " ['r' 'r' ' ']\n",
      " ['u' 'u' 'u']]\n"
     ]
    }
   ],
   "source": [
    "# Define the grid world environment\n",
    "file_path = 'custom_envs/grid_envs/grid_world1.txt'\n",
    "grid = read_grid_world(file_path)\n",
    "print(grid)\n",
    "\n",
    "rewards, transitions = calculate_rewards_and_transitions(grid)\n",
    "\n",
    "# Run value iteration\n",
    "V, policy = value_iteration(grid)\n",
    "\n",
    "# Display the results\n",
    "print(\"Optimal Value Function:\")\n",
    "print(V)\n",
    "print(\"\\nOptimal Policy:\")\n",
    "print(policy)"
   ]
  },
  {
   "cell_type": "code",
   "execution_count": 81,
   "metadata": {},
   "outputs": [
    {
     "data": {
      "text/plain": [
       "defaultdict(list,\n",
       "            {-1: [(0, 0), (1, 0), (1, 1), (2, 1), (3, 0), (4, 0), (4, 1)],\n",
       "             10: [(0, 1), (1, 2), (3, 1), (4, 2)],\n",
       "             0: [(0, 2), (3, 2)]})"
      ]
     },
     "execution_count": 81,
     "metadata": {},
     "output_type": "execute_result"
    }
   ],
   "source": [
    "groups = group_by_reward_equivalente(rewards, policy)\n",
    "# groups = replace_one_hot_key_with_group(groups)\n",
    "\n",
    "groups"
   ]
  },
  {
   "cell_type": "code",
   "execution_count": 82,
   "metadata": {},
   "outputs": [
    {
     "name": "stdout",
     "output_type": "stream",
     "text": [
      "Checking probs one hots by groups: \n",
      "c1: \n",
      "State (0, 0) to all groups:  [[0.0], [1.0], [0.0]]\n",
      "State (1, 0) to all groups:  [[1.0], [0.0], [0.0]]\n",
      "State (1, 1) to all groups:  [[0.0], [1.0], [0.0]]\n",
      "State (2, 1) to all groups:  [[0.0], [1.0], [0.0]]\n",
      "State (3, 0) to all groups:  [[0.0], [1.0], [0.0]]\n",
      "State (4, 0) to all groups:  [[1.0], [0.0], [0.0]]\n",
      "State (4, 1) to all groups:  [[0.0], [1.0], [0.0]]\n",
      "The transition probabilities are not the same for all the states in the group c1\n",
      "c2: \n",
      "State (0, 1) to all groups:  [[0.0], [0.0], [1.0]]\n",
      "State (1, 2) to all groups:  [[0.0], [0.0], [1.0]]\n",
      "State (3, 1) to all groups:  [[0.0], [0.0], [1.0]]\n",
      "State (4, 2) to all groups:  [[0.0], [0.0], [1.0]]\n",
      "c3: \n",
      "State (0, 2) to all groups:  [[0.0], [0.0], [1.0]]\n",
      "State (3, 2) to all groups:  [[0.0], [0.0], [1.0]]\n"
     ]
    }
   ],
   "source": [
    "_ = check_transition_equivalence(groups, transitions, grid, policy)"
   ]
  },
  {
   "cell_type": "code",
   "execution_count": 86,
   "metadata": {},
   "outputs": [],
   "source": [
    "# Hand mande groups\n",
    "\n",
    "groups = {\n",
    "    \"c1\" : [(0,2), (3,2)],\n",
    "    \"c2\" : [(0, 1), (1, 2), (3, 1), (4, 2)],\n",
    "    \"c3\" : [(0,0), (3,0), (1, 1), (4, 1), (2, 1)],\n",
    "    \"c4\" : [(1,0), (4,0)],\n",
    "}"
   ]
  },
  {
   "cell_type": "code",
   "execution_count": 87,
   "metadata": {},
   "outputs": [
    {
     "name": "stdout",
     "output_type": "stream",
     "text": [
      "Checking probs one hots by groups: \n",
      "c1: \n",
      "State (0, 2) to all groups:  [[1.0], [0.0], [0.0], [0.0]]\n",
      "State (3, 2) to all groups:  [[1.0], [0.0], [0.0], [0.0]]\n",
      "c2: \n",
      "State (0, 1) to all groups:  [[1.0], [0.0], [0.0], [0.0]]\n",
      "State (1, 2) to all groups:  [[1.0], [0.0], [0.0], [0.0]]\n",
      "State (3, 1) to all groups:  [[1.0], [0.0], [0.0], [0.0]]\n",
      "State (4, 2) to all groups:  [[1.0], [0.0], [0.0], [0.0]]\n",
      "c3: \n",
      "State (0, 0) to all groups:  [[0.0], [1.0], [0.0], [0.0]]\n",
      "State (3, 0) to all groups:  [[0.0], [1.0], [0.0], [0.0]]\n",
      "State (1, 1) to all groups:  [[0.0], [1.0], [0.0], [0.0]]\n",
      "State (4, 1) to all groups:  [[0.0], [1.0], [0.0], [0.0]]\n",
      "State (2, 1) to all groups:  [[0.0], [1.0], [0.0], [0.0]]\n",
      "c4: \n",
      "State (1, 0) to all groups:  [[0.0], [0.0], [1.0], [0.0]]\n",
      "State (4, 0) to all groups:  [[0.0], [0.0], [1.0], [0.0]]\n"
     ]
    }
   ],
   "source": [
    "_ = check_transition_equivalence(groups, transitions, grid, policy)"
   ]
  },
  {
   "cell_type": "code",
   "execution_count": 88,
   "metadata": {},
   "outputs": [
    {
     "data": {
      "image/png": "[encoded data removed]",
      "text/plain": [
       "<Figure size 800x600 with 2 Axes>"
      ]
     },
     "metadata": {},
     "output_type": "display_data"
    }
   ],
   "source": [
    "plot_grid_with_groups(grid, groups, list(rewards.keys()), title = 'Bisimulation Groups with Optimal Policy')"
   ]
  }
 ],
 "metadata": {
  "kernelspec": {
   "display_name": "rl-project",
   "language": "python",
   "name": "python3"
  },
  "language_info": {
   "codemirror_mode": {
    "name": "ipython",
    "version": 3
   },
   "file_extension": ".py",
   "mimetype": "text/x-python",
   "name": "python",
   "nbconvert_exporter": "python",
   "pygments_lexer": "ipython3",
   "version": "3.7.16"
  }
 },
 "nbformat": 4,
 "nbformat_minor": 2
}
