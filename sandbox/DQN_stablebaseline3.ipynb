{
 "cells": [
  {
   "cell_type": "code",
   "execution_count": null,
   "metadata": {},
   "outputs": [],
   "source": []
  },
  {
   "cell_type": "code",
   "execution_count": null,
   "metadata": {},
   "outputs": [],
   "source": [
    "import numpy as np\n",
    "from stable_baselines3.common.buffers import ReplayBuffer\n",
    "\n",
    "class CustomReplayBuffer(ReplayBuffer):\n",
    "    def __init__(self, buffer_size, observation_space, action_space, device, n_envs=1, optimize_memory_usage=False):\n",
    "        super(CustomReplayBuffer, self).__init__(buffer_size, observation_space, action_space, device, n_envs, optimize_memory_usage)\n",
    "        \n",
    "        # Example: Initialize priorities for prioritized experience replay\n",
    "        self.priorities = np.zeros((buffer_size,), dtype=np.float32)\n",
    "\n",
    "    def add(self, obs, next_obs, action, reward, done, infos):\n",
    "        # Call the parent class method to add the transition\n",
    "        idxs = super(CustomReplayBuffer, self).add(obs, next_obs, action, reward, done, infos)\n",
    "        \n",
    "        # Example: Set the maximum priority for the new experience\n",
    "        self.priorities[idxs] = self.priorities.max() if self.priorities.max() > 0 else 1.0\n",
    "    \n",
    "    def sample(self, batch_size, env=None):\n",
    "        # Example: Sample based on priorities\n",
    "        if np.sum(self.priorities) == 0:\n",
    "            probabilities = np.ones_like(self.priorities) / len(self.priorities)\n",
    "        else:\n",
    "            probabilities = self.priorities / np.sum(self.priorities)\n",
    "        \n",
    "        idxs = np.random.choice(len(self), batch_size, p=probabilities)\n",
    "        return super(CustomReplayBuffer, self)._get_samples(idxs, env)\n",
    "\n",
    "    def update_priorities(self, idxs, priorities):\n",
    "        self.priorities[idxs] = priorities"
   ]
  },
  {
   "cell_type": "code",
   "execution_count": null,
   "metadata": {},
   "outputs": [],
   "source": [
    "import gym\n",
    "from stable_baselines3 import DQN\n",
    "\n",
    "# Define the environment\n",
    "env = gym.make('CartPole-v1')\n",
    "\n",
    "# Initialize the custom replay buffer\n",
    "buffer_size = 10000\n",
    "device = 'cuda' if torch.cuda.is_available() else 'cpu'\n",
    "custom_replay_buffer = CustomReplayBuffer(buffer_size, env.observation_space, env.action_space, device)\n",
    "\n",
    "# Define the DQN model with the custom replay buffer\n",
    "model = DQN('MlpPolicy', env, verbose=1, replay_buffer=custom_replay_buffer, learning_rate=1e-3, batch_size=64, target_update_interval=1000)\n",
    "\n",
    "# Train the agent\n",
    "model.learn(total_timesteps=100000)\n",
    "\n",
    "# Save the model\n",
    "model.save(\"dqn_cartpole_custom_replay_buffer\")\n",
    "\n",
    "# Load the model\n",
    "model = DQN.load(\"dqn_cartpole_custom_replay_buffer\")\n",
    "\n",
    "# Evaluate the agent\n",
    "obs = env.reset()\n",
    "for _ in range(1000):\n",
    "    action, _ = model.predict(obs, deterministic=True)\n",
    "    obs, rewards, dones, info = env.step(action)\n",
    "    env.render()\n",
    "\n",
    "env.close()"
   ]
  }
 ],
 "metadata": {
  "language_info": {
   "name": "python"
  }
 },
 "nbformat": 4,
 "nbformat_minor": 2
}
